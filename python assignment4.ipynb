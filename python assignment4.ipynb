{
 "cells": [
  {
   "cell_type": "markdown",
   "metadata": {},
   "source": [
    "## Write a Python Program(with class concepts) to find the area of the triangle using the below formula. \n",
    "## area = (s*(s-a)*(s-b)*(s-c)) ** 0.5\n",
    "## Function to take the length of the sides of triangle from user should be defined in the parent class and function to calculate the area should be defined in subclass."
   ]
  },
  {
   "cell_type": "code",
   "execution_count": 29,
   "metadata": {},
   "outputs": [],
   "source": [
    "class Triangle:\n",
    "    def __init__(self,a,b,c):\n",
    "        self.a = a\n",
    "        self.b = b\n",
    "        self.c = c\n",
    "    def __str__(self):\n",
    "        return \"triangle with sides %f %f %f\" %(self.a, self.b, self.c)\n",
    "\n",
    "class AreaOfTriangle(Triangle):\n",
    "    def __init__(self,*args):\n",
    "        super(AreaOfTriangle,self).__init__(*args)\n",
    "    def __str__(self):\n",
    "        return \"Calculate area of triangle with sides %f %f %f\" %(self.a, self.b, self.c)\n",
    "    def calculate_area(self):\n",
    "        s = (self.a + self.b + self.c) / 2.0\n",
    "        return s\n",
    "        return (s*(s-self.a)*(s-self.b)*(s-self.c))**0.5"
   ]
  },
  {
   "cell_type": "code",
   "execution_count": 30,
   "metadata": {},
   "outputs": [
    {
     "name": "stdout",
     "output_type": "stream",
     "text": [
      "triangle with sides 3.000000 4.000000 5.000000\n"
     ]
    }
   ],
   "source": [
    "t1 = Triangle(3,4,5)\n",
    "t1.__dict__\n",
    "print(t1)"
   ]
  },
  {
   "cell_type": "code",
   "execution_count": 31,
   "metadata": {},
   "outputs": [
    {
     "name": "stdout",
     "output_type": "stream",
     "text": [
      "6.0\n"
     ]
    }
   ],
   "source": [
    "a1 = AreaOfTriangle(3,4,5)\n",
    "a1.__dict__\n",
    "a1.a\n",
    "print(a1.calculate_area())\n",
    "#print(a1)"
   ]
  },
  {
   "cell_type": "markdown",
   "metadata": {},
   "source": [
    "## Write a function filter_long_words() that takes a list of words and an integer n and returns the list of words that are longer than n."
   ]
  },
  {
   "cell_type": "code",
   "execution_count": 34,
   "metadata": {},
   "outputs": [],
   "source": [
    "def filter_long_words(lst,limit):\n",
    "    new_lst = []\n",
    "    for i in lst:\n",
    "        if len(i) > limit:\n",
    "            new_lst.append(i)\n",
    "    return new_lst"
   ]
  },
  {
   "cell_type": "code",
   "execution_count": 35,
   "metadata": {},
   "outputs": [
    {
     "name": "stdout",
     "output_type": "stream",
     "text": [
      "['language', 'assignment', 'corresponding']\n"
     ]
    }
   ],
   "source": [
    "words = ['Python','language','assignment','corresponding','length']\n",
    "print(filter_long_words(words,6))"
   ]
  },
  {
   "cell_type": "markdown",
   "metadata": {},
   "source": [
    "## Write a Python program using function concept that maps list of words into a list of integers representing the lengths of the corresponding words.\n",
    "## Hint: If a list [ ab,cde,erty] is passed on to the python function output should come as [2,3,4]\n",
    "## Here 2,3 and 4 are the lengths of the words in the list."
   ]
  },
  {
   "cell_type": "code",
   "execution_count": 36,
   "metadata": {},
   "outputs": [],
   "source": [
    "def length_of_words(lst):\n",
    "    return [len(i) for i in lst]"
   ]
  },
  {
   "cell_type": "code",
   "execution_count": 37,
   "metadata": {},
   "outputs": [
    {
     "name": "stdout",
     "output_type": "stream",
     "text": [
      "[6, 8, 10, 13, 6]\n"
     ]
    }
   ],
   "source": [
    "words = ['Python','language','assignment','corresponding','length']\n",
    "print(length_of_words(words))"
   ]
  },
  {
   "cell_type": "markdown",
   "metadata": {},
   "source": [
    "## Write a Python function which takes a character (i.e. a string of length 1) and returns True if it is a vowel, False otherwise."
   ]
  },
  {
   "cell_type": "code",
   "execution_count": 39,
   "metadata": {},
   "outputs": [],
   "source": [
    "def check_vowel(char):\n",
    "    return char in \"AEIOUaeiou\""
   ]
  },
  {
   "cell_type": "code",
   "execution_count": 42,
   "metadata": {},
   "outputs": [
    {
     "data": {
      "text/plain": [
       "True"
      ]
     },
     "execution_count": 42,
     "metadata": {},
     "output_type": "execute_result"
    }
   ],
   "source": [
    "check_vowel('E')"
   ]
  },
  {
   "cell_type": "code",
   "execution_count": null,
   "metadata": {},
   "outputs": [],
   "source": []
  }
 ],
 "metadata": {
  "kernelspec": {
   "display_name": "Python 3",
   "language": "python",
   "name": "python3"
  },
  "language_info": {
   "codemirror_mode": {
    "name": "ipython",
    "version": 3
   },
   "file_extension": ".py",
   "mimetype": "text/x-python",
   "name": "python",
   "nbconvert_exporter": "python",
   "pygments_lexer": "ipython3",
   "version": "3.8.3"
  }
 },
 "nbformat": 4,
 "nbformat_minor": 4
}
